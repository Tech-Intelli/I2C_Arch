{
 "cells": [
  {
   "cell_type": "code",
   "execution_count": null,
   "metadata": {},
   "outputs": [],
   "source": [
    "import torch\n",
    "from PIL import Image\n",
    "import requests\n",
    "from lavis.models import load_model_and_preprocess\n",
    "img_url = 'https://storage.googleapis.com/sfr-vision-language-research/LAVIS/assets/merlion.png' \n",
    "#raw_image = Image.open(requests.get(img_url, stream=True).raw).convert('RGB')\n",
    "raw_image = Image.open(\"C:\\\\Users\\\\dasdi\\\\Desktop\\\\5.jpeg\").convert('RGB')\n",
    "display(raw_image.resize((596, 437)))"
   ]
  },
  {
   "cell_type": "code",
   "execution_count": null,
   "metadata": {},
   "outputs": [],
   "source": [
    "device = torch.device(\"cuda\") if torch.cuda.is_available() else \"cpu\""
   ]
  },
  {
   "cell_type": "code",
   "execution_count": null,
   "metadata": {},
   "outputs": [],
   "source": [
    "import torch\n",
    "import os\n",
    "from torch.cuda.amp import autocast, GradScaler\n",
    "from accelerate import Accelerator\n",
    "\n",
    "torch.cuda.empty_cache()\n",
    "\n",
    "os.environ['PYTORCH_CUDA_ALLOC_CONF'] = 'max_split_size_mb:128'\n",
    "\n",
    "accelerator = Accelerator(cpu=True)\n",
    "\n",
    "def clear_memory():\n",
    "    torch.cuda.empty_cache()\n",
    "    torch.cuda.synchronize()\n",
    "\n",
    "clear_memory()\n",
    "\n",
    "scaler = GradScaler()\n",
    "\n",
    "try:\n",
    "    with autocast():\n",
    "        model, vis_processors, _ = load_model_and_preprocess(\n",
    "            name=\"blip2_t5\", model_type=\"caption_coco_flant5xl\", is_eval=True, device=\"cpu\"  # Load on CPU first\n",
    "        )\n",
    "    \n",
    "    if hasattr(model, 'gradient_checkpointing_enable'):\n",
    "        model.gradient_checkpointing_enable()\n",
    "    model = accelerator.prepare(model)\n",
    "\n",
    "except RuntimeError as e:\n",
    "    print(f\"Error during model loading: {e}\")\n",
    "    clear_memory()"
   ]
  },
  {
   "cell_type": "code",
   "execution_count": null,
   "metadata": {},
   "outputs": [],
   "source": [
    "print(model.state_dict().keys())"
   ]
  },
  {
   "cell_type": "code",
   "execution_count": null,
   "metadata": {},
   "outputs": [],
   "source": [
    "import pickle\n",
    "def save_model(model, vis_processors, model_path, components_path):\n",
    "    torch.save(model.state_dict(), model_path)\n",
    "    \n",
    "    components = {\n",
    "        'vis_processors': vis_processors\n",
    "    }\n",
    "    with open(components_path, \"wb\") as f:\n",
    "        pickle.dump(components, f)\n",
    "save_model(model, vis_processors, \"model_state_dict_caption_coco_flant5xl.pth\", \"components_caption_coco_flant5xl.pkl\")\n"
   ]
  },
  {
   "cell_type": "code",
   "execution_count": null,
   "metadata": {},
   "outputs": [],
   "source": [
    "model.load_state_dict(torch.load(\"model_state_dict_caption_coco_flant5xl.pth\", map_location=device))"
   ]
  },
  {
   "cell_type": "code",
   "execution_count": null,
   "metadata": {},
   "outputs": [],
   "source": [
    "import torch\n",
    "import os\n",
    "from torch.cuda.amp import autocast, GradScaler\n",
    "from accelerate import Accelerator\n",
    "from lavis.models.blip2_models.blip2_t5 import Blip2T5\n",
    "import pickle\n",
    "\n",
    "torch.cuda.empty_cache()\n",
    "\n",
    "os.environ['PYTORCH_CUDA_ALLOC_CONF'] = 'max_split_size_mb:128'\n",
    "\n",
    "accelerator = Accelerator(cpu=True)\n",
    "\n",
    "def clear_memory():\n",
    "    torch.cuda.empty_cache()\n",
    "    torch.cuda.synchronize()\n",
    "\n",
    "clear_memory()\n",
    "\n",
    "scaler = GradScaler()\n",
    "\n",
    "def quantize_model(model):\n",
    "    \"\"\"\n",
    "    Apply dynamic quantization to the model.\n",
    "    \"\"\"\n",
    "    try:\n",
    "        with autocast():\n",
    "            model, vis_processors, _ = load_model_and_preprocess(\n",
    "                name=\"blip2_t5\", model_type=\"caption_coco_flant5xl\", is_eval=True, device=\"cpu\"  # Load on CPU first\n",
    "            )\n",
    "        model = accelerator.prepare(model)\n",
    "\n",
    "    except RuntimeError as e:\n",
    "        print(f\"Error during model loading: {e}\")\n",
    "        clear_memory()\n",
    "    model.load_state_dict(torch.load(\"model_state_dict_caption_coco_flant5xl.pth\", map_location=device))\n",
    "    model = torch.quantization.quantize_dynamic(\n",
    "        model, {torch.nn.Linear}, dtype=torch.qint8\n",
    "    )\n",
    "        \n",
    "    model.to(device)\n",
    "    model.eval()\n",
    "    return model\n",
    "def save_model(model, vis_processors, model_path, components_path):\n",
    "    torch.save(model.state_dict(), model_path)\n",
    "    \n",
    "    components = {\n",
    "        'vis_processors': vis_processors\n",
    "    }\n",
    "    with open(components_path, \"wb\") as f:\n",
    "        pickle.dump(components, f)\n",
    "quantized_model = quantize_model(model)\n",
    "save_model(quantized_model, vis_processors, \"model_state_dict_caption_coco_flant5xl_quantized.pth\", \"components_caption_coco_flant5xl_quantized.pkl\")\n"
   ]
  },
  {
   "cell_type": "code",
   "execution_count": null,
   "metadata": {},
   "outputs": [],
   "source": [
    "import torch\n",
    "from torchvision import transforms\n",
    "from PIL import Image\n",
    "from lavis.models.blip2_models.blip2_t5 import Blip2T5\n",
    "\n",
    "def load_model(model_path, components_path, device):\n",
    "    try:\n",
    "        with autocast():\n",
    "            model, vis_processors, _ = load_model_and_preprocess(\n",
    "                name=\"blip2_t5\", model_type=\"caption_coco_flant5xl\", is_eval=True, device=\"cpu\"  # Load on CPU first\n",
    "            )\n",
    "        model = accelerator.prepare(model)\n",
    "    except RuntimeError as e:\n",
    "        print(f\"Error during model loading: {e}\")\n",
    "        clear_memory()\n",
    "    model.load_state_dict(torch.load(model_path, map_location=device))\n",
    "    model.to(device)\n",
    "    model.eval()\n",
    "    with open(components_path, 'rb') as f:\n",
    "        components = pickle.load(f)\n",
    "    return model, components\n"
   ]
  },
  {
   "cell_type": "code",
   "execution_count": null,
   "metadata": {},
   "outputs": [],
   "source": [
    "print(state_dict.keys())\n"
   ]
  },
  {
   "cell_type": "code",
   "execution_count": null,
   "metadata": {},
   "outputs": [],
   "source": [
    "model = Blip2T5(img_size=224)  # Ensure the img_size matches what was used during training"
   ]
  },
  {
   "cell_type": "code",
   "execution_count": null,
   "metadata": {},
   "outputs": [],
   "source": [
    "import torch.nn as nn\n",
    "model = nn.Module()"
   ]
  },
  {
   "cell_type": "code",
   "execution_count": null,
   "metadata": {},
   "outputs": [],
   "source": [
    "model.load_state_dict(torch.load(\"model_state_dict_caption_coco_flant5xl.pth\", map_location=device))"
   ]
  },
  {
   "cell_type": "code",
   "execution_count": null,
   "metadata": {},
   "outputs": [],
   "source": [
    "base_model_state_dict_path = \"base_model_state_dict.pth\"\n",
    "torch.save(model.state_dict(), base_model_state_dict_path)"
   ]
  },
  {
   "cell_type": "code",
   "execution_count": null,
   "metadata": {},
   "outputs": [],
   "source": [
    "from lavis.models.blip2_models import Blip2T5"
   ]
  },
  {
   "cell_type": "code",
   "execution_count": null,
   "metadata": {},
   "outputs": [],
   "source": [
    "model = blip2(pretrained=False, image_size=384, vision_width=64, vision_layers=12, vision_patch_size=16,\n",
    "                  embed_dim=768, depth=12, num_heads=12, caption_max_length=30, text_vocab_size=10000)\n"
   ]
  },
  {
   "cell_type": "code",
   "execution_count": null,
   "metadata": {},
   "outputs": [],
   "source": [
    "from lavis.models.blip2_models.blip2_t5 import Blip2T5"
   ]
  },
  {
   "cell_type": "code",
   "execution_count": null,
   "metadata": {},
   "outputs": [],
   "source": [
    "def initialize_quantized_blip2_model():\n",
    "    # Initialize the model with the configuration used during quantization\n",
    "    model = Blip2T5(\n",
    "        vit_model=\"eva_clip_g\",  # specify the correct Vision Transformer model\n",
    "        img_size=384,            # the input image size\n",
    "        drop_path_rate=0,        # dropout path rate, if used during quantization\n",
    "        use_grad_checkpoint=False,\n",
    "        vit_precision=\"fp16\",    # precision, this should match your quantization settings\n",
    "        freeze_vit=True,         # whether to freeze the Vision Transformer\n",
    "        num_query_token=32,      # number of query tokens\n",
    "        t5_model=\"google/flan-t5-xl\",  # specify the correct T5 model\n",
    "        prompt=\"\",               # prompt used during training\n",
    "        max_txt_len=32,          # maximum text length\n",
    "        apply_lemmatizer=False   # any post-processing, usually for NLP tasks\n",
    "    )\n",
    "    model.eval()  # Ensure the model is in evaluation mode\n",
    "    return model"
   ]
  },
  {
   "cell_type": "code",
   "execution_count": null,
   "metadata": {},
   "outputs": [],
   "source": []
  }
 ],
 "metadata": {
  "kernelspec": {
   "display_name": "Python 3",
   "language": "python",
   "name": "python3"
  },
  "language_info": {
   "codemirror_mode": {
    "name": "ipython",
    "version": 3
   },
   "file_extension": ".py",
   "mimetype": "text/x-python",
   "name": "python",
   "nbconvert_exporter": "python",
   "pygments_lexer": "ipython3",
   "version": "3.10.11"
  }
 },
 "nbformat": 4,
 "nbformat_minor": 2
}
